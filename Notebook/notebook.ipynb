{
 "cells": [
  {
   "cell_type": "code",
   "execution_count": null,
   "id": "5e5b4270",
   "metadata": {},
   "outputs": [],
   "source": [
    "# notebooks/notebook.ipynb\n",
    "\n",
    "import pandas as pd\n",
    "import numpy as np\n",
    "import matplotlib.pyplot as plt\n",
    "import mplfinance as mpf\n",
    "from scipy.stats import zscore\n",
    "\n",
    "df = pd.read_csv('../dataset/Bitcoin Historical Data.csv') "
   ]
  },
  {
   "cell_type": "code",
   "execution_count": null,
   "id": "60989a8f",
   "metadata": {},
   "outputs": [],
   "source": [
    "\n",
    "# Konversi kolom numerik\n",
    "cols_to_convert = ['Price', 'Open', 'High', 'Low', 'Vol.', 'Change %']\n",
    "for col in cols_to_convert:\n",
    "    def convert(v):\n",
    "        v = str(v).replace(',', '').replace('%', '')\n",
    "        if 'K' in v: return float(v.replace('K', '')) * 1_000\n",
    "        elif 'M' in v: return float(v.replace('M', '')) * 1_000_000\n",
    "        elif 'B' in v: return float(v.replace('B', '')) * 1_000_000_000\n",
    "        else: return float(v)\n",
    "    df[col] = df[col].apply(convert)\n",
    "\n",
    "df['Date'] = pd.to_datetime(df['Date'])\n",
    "df = df.sort_values('Date').reset_index(drop=True)"
   ]
  },
  {
   "cell_type": "code",
   "execution_count": null,
   "id": "073082c8",
   "metadata": {},
   "outputs": [],
   "source": [
    "# Eksplorasi Data (EDA)\n",
    "\n",
    "df.info()\n",
    "\n",
    "# --- Statistik Deskriptif ---\n",
    "print(df.describe())\n",
    "\n",
    "# --- Visualisasi Harga Historis ---\n",
    "print(\"\\n--- BTC/USD Historical Price ---\")\n",
    "plt.figure(figsize=(14, 7))\n",
    "plt.plot(df['Date'], df['Price'], label='Harga Bitcoin (USD)')\n",
    "plt.title('Grafik Harga Historis Bitcoin'); plt.xlabel('Tanggal'); plt.ylabel('Harga (USD)');\n",
    "plt.legend(); plt.grid(True);\n",
    "plt.show()\n",
    "\n",
    "# --- Visualisasi Candlestick ---\n",
    "print(\"\\n--- Candleplot (tf 60 days) ---\")\n",
    "df_candle_plot = df.set_index('Date').tail(60)\n",
    "df_candle_plot.rename(columns={'Price': 'Close','Vol.': 'Volume'}, inplace=True)\n",
    "mpf.plot(df_candle_plot, type='candle', style='charles', title='BTC/USD',\n",
    "         ylabel='USD', volume=True, mav=(14, 30))\n",
    "plt.show()\n",
    "\n",
    "# --- Deteksi Outlier ---\n",
    "print(\"\\n--- Outlier ---\")\n",
    "z_scores = zscore(df['Price'])\n",
    "outliers_z = df[abs(z_scores) > 3]\n",
    "print(f\"Jumlah outlier berdasarkan Z-score (> 3): {len(outliers_z)}\")"
   ]
  }
 ],
 "metadata": {
  "language_info": {
   "name": "python"
  }
 },
 "nbformat": 4,
 "nbformat_minor": 5
}
